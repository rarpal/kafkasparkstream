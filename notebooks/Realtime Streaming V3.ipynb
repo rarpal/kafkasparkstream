{
 "cells": [
  {
   "cell_type": "code",
   "execution_count": 1,
   "id": "7e2f5dc4",
   "metadata": {},
   "outputs": [],
   "source": [
    "# scala_version = '2.13'\n",
    "# spark_version = '3.4.0'\n",
    "# # TODO: Ensure match above values match the correct versions\n",
    "# packages = [\n",
    "#     f'org.apache.spark:spark-sql-kafka-0-10_{scala_version}:{spark_version}',\n",
    "#     'org.apache.kafka:kafka-clients:3.4.0'\n",
    "# ]\n",
    "\n",
    "# import os\n",
    "# # os.environ['PYSPARK_SUBMIT_ARGS'] = '--packages org.apache.spark:spark-sql-kafka-0-10_2.13:3.4.0,org.apache.kafka:kafka-clients:3.4.0 --master local[*]'\n",
    "# #os.environ['PYSPARK_SUBMIT_ARGS'] = '--packages org.apache.spark:spark-streaming-kafka-0-8_2.11:2.3.4'\n",
    "\n",
    "# spark_jars =  (\"{},{},{},{},{}\".format(os.getcwd() + \"\\\\kafka-jars\\\\spark-sql-kafka-0-10_2.13-3.4.0.jar\",  \n",
    "#                                       os.getcwd() + \"\\\\kafka-jars\\\\kafka-clients-3.4.0.jar\", \n",
    "#                                       os.getcwd() + \"\\\\kafka-jars\\\\spark-streaming-kafka-0-10_2.13-3.4.0.jar\", \n",
    "#                                       os.getcwd() + \"\\\\kafka-jars\\\\commons-pool2-2.11.1.jar\",  \n",
    "#                                       os.getcwd() + \"\\\\kafka-jars\\\\spark-token-provider-kafka-0-10_2.13-3.4.0.jar\"))"
   ]
  },
  {
   "cell_type": "code",
   "execution_count": 1,
   "id": "4be6ed87",
   "metadata": {},
   "outputs": [],
   "source": [
    "from pyspark.sql import SparkSession\n",
    "from pyspark.sql.functions import from_json, col\n",
    "from pyspark.sql.types import StructType, StructField, StringType\n",
    "\n",
    "# Create a Spark session\n",
    "spark = SparkSession.builder \\\n",
    "    .appName(\"KafkaStreamingExample\") \\\n",
    "    .config('spark.jars.packages', 'org.apache.spark:spark-sql-kafka-0-10_2.11:2.3.4') \\\n",
    "    .getOrCreate()\n",
    "\n",
    "# Define the schema for the incoming JSON data\n",
    "schema = StructType([\n",
    "    StructField(\"key\", StringType(), True),\n",
    "    StructField(\"value\", StringType(), True),\n",
    "])\n",
    "\n",
    "#    .config(\"spark.jars.packages\", \"org.apache.spark:spark-sql-kafka-0-10_2.13:3.4.0,org.apache.kafka:kafka-clients:3.4.0\") \\\n",
    "#     .config(\"spark.jars\", spark_jars) \\"
   ]
  },
  {
   "cell_type": "code",
   "execution_count": 2,
   "id": "8236c0de",
   "metadata": {},
   "outputs": [],
   "source": [
    "# Define the Kafka source\n",
    "kafka_source = spark.readStream \\\n",
    "    .format(\"kafka\") \\\n",
    "    .option(\"kafka.bootstrap.servers\", \"localhost:9092\") \\\n",
    "    .option(\"subscribe\", \"kafkaspark1\") \\\n",
    "    .option(\"startingOffsets\", \"earliest\") \\\n",
    "    .load()"
   ]
  },
  {
   "cell_type": "code",
   "execution_count": 3,
   "id": "ea1cac06",
   "metadata": {},
   "outputs": [],
   "source": [
    "# # Convert the value column from Kafka into a JSON structure\n",
    "# parsed_data = kafka_source.selectExpr(\"CAST(key AS STRING)\",\"CAST(value AS STRING)\") \\\n",
    "#     .select(from_json(\"value\", schema).alias(\"data\")) \\\n",
    "#     .select(\"data.*\")\n",
    "\n",
    "# # Display the streaming data\n",
    "# query = parsed_data.writeStream \\\n",
    "#     .outputMode(\"append\") \\\n",
    "#     .format(\"console\") \\\n",
    "#     .start()\n",
    "\n",
    "# # Wait for the streaming to finish\n",
    "# query.awaitTermination()\n",
    "\n",
    "# # Stop the Spark session\n",
    "# #spark.stop()\n"
   ]
  },
  {
   "cell_type": "code",
   "execution_count": 3,
   "id": "2beb7a24",
   "metadata": {},
   "outputs": [],
   "source": [
    "# kafka_source.selectExpr(\"CAST(key AS STRING)\", \"CAST(value AS STRING)\") \\\n",
    "#     .writeStream \\\n",
    "#     .format(\"console\") \\\n",
    "#     .outputMode(\"append\") \\\n",
    "#     .start() \\\n",
    "#     .awaitTermination()"
   ]
  },
  {
   "cell_type": "code",
   "execution_count": 3,
   "id": "208d63ab",
   "metadata": {},
   "outputs": [],
   "source": [
    "kafka_source.selectExpr(\"CAST(value AS STRING)\") \\\n",
    "    .writeStream \\\n",
    "    .format(\"console\") \\\n",
    "    .outputMode(\"append\") \\\n",
    "    .start() \\\n",
    "    .awaitTermination()"
   ]
  },
  {
   "cell_type": "code",
   "execution_count": null,
   "id": "fc006c6f",
   "metadata": {},
   "outputs": [],
   "source": [
    "#show(parsed_data)"
   ]
  },
  {
   "cell_type": "code",
   "execution_count": null,
   "id": "4d9c0fab",
   "metadata": {},
   "outputs": [],
   "source": []
  }
 ],
 "metadata": {
  "kernelspec": {
   "display_name": "Python 3 (ipykernel)",
   "language": "python",
   "name": "python3"
  },
  "language_info": {
   "codemirror_mode": {
    "name": "ipython",
    "version": 3
   },
   "file_extension": ".py",
   "mimetype": "text/x-python",
   "name": "python",
   "nbconvert_exporter": "python",
   "pygments_lexer": "ipython3",
   "version": "3.7.8"
  }
 },
 "nbformat": 4,
 "nbformat_minor": 5
}
